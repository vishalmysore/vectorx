{
  "nbformat": 4,
  "nbformat_minor": 0,
  "metadata": {
    "colab": {
      "provenance": [],
      "authorship_tag": "ABX9TyM9mzijtT5G/uLXLVCtdJ6Z",
      "include_colab_link": true
    },
    "kernelspec": {
      "name": "python3",
      "display_name": "Python 3"
    },
    "language_info": {
      "name": "python"
    }
  },
  "cells": [
    {
      "cell_type": "markdown",
      "metadata": {
        "id": "view-in-github",
        "colab_type": "text"
      },
      "source": [
        "<a href=\"https://colab.research.google.com/github/vishalmysore/vectorx/blob/main/notebook/myscale_cookgpt.ipynb\" target=\"_parent\"><img src=\"https://colab.research.google.com/assets/colab-badge.svg\" alt=\"Open In Colab\"/></a>"
      ]
    },
    {
      "cell_type": "code",
      "execution_count": null,
      "metadata": {
        "id": "8Nj9QKegjGGc"
      },
      "outputs": [],
      "source": [
        "!pip install clickhouse-connect openai sentence-transformers torch requests pandas tqdm"
      ]
    },
    {
      "cell_type": "code",
      "source": [
        "!pip install datasets"
      ],
      "metadata": {
        "id": "xVBIgsKFE-Vt"
      },
      "execution_count": null,
      "outputs": []
    },
    {
      "cell_type": "code",
      "source": [
        "import torch\n",
        "from sentence_transformers import SentenceTransformer\n",
        "# set device to GPU if available\n",
        "device = 'cuda' if torch.cuda.is_available() else 'cpu'\n",
        "# load the retriever model from huggingface model hub\n",
        "retriever = SentenceTransformer('all-minilm-l6-v2', device=device)"
      ],
      "metadata": {
        "id": "MbMs-8Q6jWE5"
      },
      "execution_count": null,
      "outputs": []
    },
    {
      "cell_type": "code",
      "source": [
        "from datasets import load_dataset\n",
        "\n",
        "dataset = load_dataset(\"VishalMysore/newIndianCuisine\")"
      ],
      "metadata": {
        "id": "1GnUbouekGqa"
      },
      "execution_count": null,
      "outputs": []
    },
    {
      "cell_type": "code",
      "source": [
        "import pandas as pd\n",
        "dataset = load_dataset(\"VishalMysore/newIndianCuisine\")\n",
        "data_raw = pd.DataFrame(dataset['train'])\n",
        "# Display information about the cleaned DataFrame\n",
        "print(data_raw.info())"
      ],
      "metadata": {
        "id": "mZJH0UzdkpUn"
      },
      "execution_count": null,
      "outputs": []
    },
    {
      "cell_type": "code",
      "source": [
        "from tqdm.auto import tqdm\n",
        "\n",
        "summary_raw = data_raw['Method'].values.tolist()\n",
        "method_feature = []\n",
        "\n",
        "for i in tqdm(range(0, len(summary_raw), 1)):\n",
        "    i_end = min(i+1, len(summary_raw))\n",
        "    # generate embeddings for summary\n",
        "    emb = retriever.encode(summary_raw[i:i_end]).tolist()[0]\n",
        "    method_feature.append(emb)\n",
        "\n",
        "data_raw['method_feature'] = method_feature"
      ],
      "metadata": {
        "id": "Hj8tddwblF-Y"
      },
      "execution_count": null,
      "outputs": []
    },
    {
      "cell_type": "code",
      "source": [
        "import clickhouse_connect\n",
        "from google.colab import userdata\n",
        "\n",
        "  # initialize client\n",
        "client = clickhouse_connect.get_client(\n",
        "      host='msc-8cdd15a4.us-east-1.aws.myscale.com',\n",
        "      port=443,\n",
        "      username='vishalmysore_org_default',\n",
        "      password=userdata.get('myscale')\n",
        "  )"
      ],
      "metadata": {
        "id": "o5jtGIgpmBAu"
      },
      "execution_count": null,
      "outputs": []
    },
    {
      "cell_type": "code",
      "source": [
        "# create table for bitcoin texts\n",
        "client.command(\"DROP TABLE IF EXISTS default.myscale_cookgpt\")\n",
        "\n",
        "client.command(\"\"\"\n",
        "CREATE TABLE default.myscale_cookgpt\n",
        "(\n",
        "    id UInt64,\n",
        "    Recipe String,\n",
        "    \"Total Time\" String,\n",
        "    Method String,\n",
        "    Category String,\n",
        "    Ingredients String,\n",
        "    method_feature Array(Float32),\n",
        "    CONSTRAINT vector_len CHECK length(method_feature) = 384\n",
        ")\n",
        "ORDER BY id\n",
        "\"\"\")"
      ],
      "metadata": {
        "id": "GI1Y-ZW-n7og"
      },
      "execution_count": null,
      "outputs": []
    },
    {
      "cell_type": "code",
      "source": [
        "client.insert(\"default.myscale_cookgpt\",\n",
        "              data_raw.to_records(index=False).tolist(),\n",
        "              column_names=data_raw.columns.tolist())"
      ],
      "metadata": {
        "id": "2nsTIwo8o0US"
      },
      "execution_count": null,
      "outputs": []
    },
    {
      "cell_type": "code",
      "source": [
        "client.command(\"\"\"\n",
        "ALTER TABLE default.myscale_cookgpt\n",
        "ADD VECTOR INDEX method_feature_index method_feature\n",
        "TYPE MSTG\n",
        "('metric_type=Cosine')\n",
        "\"\"\")"
      ],
      "metadata": {
        "id": "GmnFPPLBsU_h"
      },
      "execution_count": null,
      "outputs": []
    },
    {
      "cell_type": "code",
      "source": [
        "get_index_status=\"SELECT status FROM system.vector_indices WHERE name='method_feature_index'\"\n",
        "print(f\"index build status: {client.command(get_index_status)}\")"
      ],
      "metadata": {
        "id": "-ZrR53Y_shK2"
      },
      "execution_count": null,
      "outputs": []
    },
    {
      "cell_type": "code",
      "source": [
        "question = 'what recipe is made with Paneer?'\n",
        "emb_query = retriever.encode(question).tolist()"
      ],
      "metadata": {
        "id": "kHJHVxBCsrOf"
      },
      "execution_count": null,
      "outputs": []
    },
    {
      "cell_type": "code",
      "source": [
        "top_k = 2\n",
        "results = client.query(f\"\"\"\n",
        "SELECT Recipe, Method, distance(method_feature, {emb_query}) as dist\n",
        "FROM default.myscale_cookgpt\n",
        "\n",
        "ORDER BY dist LIMIT {top_k}\n",
        "\"\"\")\n",
        "\n",
        "summaries = []\n",
        "for res in results.named_results():\n",
        "    summaries.append((res[\"Recipe\"], res[\"Method\"]))\n",
        "\n",
        "print(summaries)"
      ],
      "metadata": {
        "id": "8xfjOMmgs8YG"
      },
      "execution_count": null,
      "outputs": []
    }
  ]
}